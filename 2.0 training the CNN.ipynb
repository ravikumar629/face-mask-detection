{
 "cells": [
  {
   "cell_type": "code",
   "execution_count": 5,
   "metadata": {},
   "outputs": [],
   "source": [
    "import numpy as np\n",
    "\n",
    "data=np.load('data.npy')\n",
    "target=np.load('target.npy')\n"
   ]
  },
  {
   "cell_type": "code",
   "execution_count": 6,
   "metadata": {},
   "outputs": [],
   "source": [
    "from keras.models import Sequential\n",
    "from keras.layers import Dense,Activation,Flatten,Dropout\n",
    "from keras.layers import Conv2D,MaxPooling2D\n",
    "from keras.callbacks import ModelCheckpoint\n",
    "model=Sequential()\n",
    "model.add(Conv2D(100,(3,3),input_shape=data.shape[1:]))\n",
    "model.add(Activation('relu'))\n",
    "model.add(MaxPooling2D(pool_size=(2,2)))\n",
    "model.add(Conv2D(100,(3,3)))\n",
    "model.add(Activation('relu'))\n",
    "model.add(MaxPooling2D(pool_size=(2,2)))\n",
    "model.add(Flatten())\n",
    "model.add(Dropout(0.5))\n",
    "model.add(Dense(50,activation='relu'))\n",
    "model.add(Dense(2,activation='softmax'))\n",
    "model.compile(loss='binary_crossentropy',optimizer='adam',metrics=['accuracy'])"
   ]
  },
  {
   "cell_type": "code",
   "execution_count": 7,
   "metadata": {},
   "outputs": [],
   "source": [
    "from sklearn.model_selection import train_test_split\n",
    "\n",
    "train_data,test_data,train_target,test_target=train_test_split(data,target,test_size=0.1)"
   ]
  },
  {
   "cell_type": "code",
   "execution_count": 8,
   "metadata": {},
   "outputs": [
    {
     "name": "stdout",
     "output_type": "stream",
     "text": [
      "Train on 990 samples, validate on 248 samples\n",
      "Epoch 1/20\n",
      "990/990 [==============================] - 126s 127ms/step - loss: 0.7207 - accuracy: 0.5192 - val_loss: 0.6596 - val_accuracy: 0.5685\n",
      "Epoch 2/20\n",
      "990/990 [==============================] - 131s 132ms/step - loss: 0.5931 - accuracy: 0.6687 - val_loss: 0.4795 - val_accuracy: 0.8024\n",
      "Epoch 3/20\n",
      "990/990 [==============================] - 125s 126ms/step - loss: 0.3676 - accuracy: 0.8414 - val_loss: 0.3228 - val_accuracy: 0.8992\n",
      "Epoch 4/20\n",
      "990/990 [==============================] - 122s 124ms/step - loss: 0.2650 - accuracy: 0.8929 - val_loss: 0.3373 - val_accuracy: 0.8790\n",
      "Epoch 5/20\n",
      "990/990 [==============================] - 120s 121ms/step - loss: 0.2173 - accuracy: 0.9222 - val_loss: 0.2477 - val_accuracy: 0.9032\n",
      "Epoch 6/20\n",
      "990/990 [==============================] - 125s 127ms/step - loss: 0.1490 - accuracy: 0.9384 - val_loss: 0.2238 - val_accuracy: 0.9234\n",
      "Epoch 7/20\n",
      "990/990 [==============================] - 126s 127ms/step - loss: 0.1030 - accuracy: 0.9626 - val_loss: 0.1802 - val_accuracy: 0.9476\n",
      "Epoch 8/20\n",
      "990/990 [==============================] - 124s 125ms/step - loss: 0.0731 - accuracy: 0.9768 - val_loss: 0.1758 - val_accuracy: 0.9476\n",
      "Epoch 9/20\n",
      "990/990 [==============================] - 122s 123ms/step - loss: 0.0777 - accuracy: 0.9758 - val_loss: 0.2193 - val_accuracy: 0.9274\n",
      "Epoch 10/20\n",
      "990/990 [==============================] - 123s 125ms/step - loss: 0.0406 - accuracy: 0.9899 - val_loss: 0.2139 - val_accuracy: 0.9274\n",
      "Epoch 11/20\n",
      "990/990 [==============================] - 125s 127ms/step - loss: 0.0708 - accuracy: 0.9758 - val_loss: 0.1923 - val_accuracy: 0.9315\n",
      "Epoch 12/20\n",
      "990/990 [==============================] - 120s 121ms/step - loss: 0.0497 - accuracy: 0.9838 - val_loss: 0.1668 - val_accuracy: 0.9516\n",
      "Epoch 13/20\n",
      "990/990 [==============================] - 124s 126ms/step - loss: 0.0359 - accuracy: 0.9909 - val_loss: 0.1674 - val_accuracy: 0.9556\n",
      "Epoch 14/20\n",
      "990/990 [==============================] - 122s 123ms/step - loss: 0.0405 - accuracy: 0.9859 - val_loss: 0.1538 - val_accuracy: 0.9597\n",
      "Epoch 15/20\n",
      "990/990 [==============================] - 123s 124ms/step - loss: 0.0247 - accuracy: 0.9939 - val_loss: 0.1946 - val_accuracy: 0.9435\n",
      "Epoch 16/20\n",
      "990/990 [==============================] - 122s 123ms/step - loss: 0.0178 - accuracy: 0.9960 - val_loss: 0.2896 - val_accuracy: 0.9113\n",
      "Epoch 17/20\n",
      "990/990 [==============================] - 125s 126ms/step - loss: 0.0294 - accuracy: 0.9899 - val_loss: 0.1754 - val_accuracy: 0.9597\n",
      "Epoch 18/20\n",
      "990/990 [==============================] - 119s 120ms/step - loss: 0.0242 - accuracy: 0.9980 - val_loss: 0.2071 - val_accuracy: 0.9556\n",
      "Epoch 19/20\n",
      "990/990 [==============================] - 119s 120ms/step - loss: 0.0226 - accuracy: 0.9909 - val_loss: 0.3008 - val_accuracy: 0.9315\n",
      "Epoch 20/20\n",
      "990/990 [==============================] - 117s 118ms/step - loss: 0.0217 - accuracy: 0.9960 - val_loss: 0.3202 - val_accuracy: 0.9274\n"
     ]
    }
   ],
   "source": [
    "checkpoint = ModelCheckpoint('model-{epoch:03d}.model',monitor='val_loss',verbose=0,save_best_only=True,mode='auto')\n",
    "history=model.fit(train_data,train_target,epochs=20,callbacks=[checkpoint],validation_split=0.2)"
   ]
  },
  {
   "cell_type": "code",
   "execution_count": 9,
   "metadata": {},
   "outputs": [
    {
     "data": {
      "text/plain": [
       "<Figure size 640x480 with 1 Axes>"
      ]
     },
     "metadata": {},
     "output_type": "display_data"
    }
   ],
   "source": [
    "from matplotlib import pyplot as plt\n",
    "\n",
    "plt.plot(history.history['loss'],'r',label='training loss')\n",
    "plt.plot(history.history['val_loss'],label='validation loss')\n",
    "plt.xlabel('# epochs')\n",
    "plt.ylabel('loss')\n",
    "plt.legend()\n",
    "plt.show()"
   ]
  },
  {
   "cell_type": "code",
   "execution_count": 10,
   "metadata": {},
   "outputs": [
    {
     "data": {
      "image/png": "[encoded data removed]",
      "text/plain": [
       "<Figure size 432x288 with 1 Axes>"
      ]
     },
     "metadata": {
      "needs_background": "light"
     },
     "output_type": "display_data"
    }
   ],
   "source": [
    "plt.plot(history.history['accuracy'],'r',label='training accuracy')\n",
    "plt.plot(history.history['val_accuracy'],label='validation accuracy')\n",
    "plt.xlabel('# epochs')\n",
    "plt.ylabel('loss')\n",
    "plt.legend()\n",
    "plt.show()"
   ]
  },
  {
   "cell_type": "code",
   "execution_count": 11,
   "metadata": {},
   "outputs": [
    {
     "name": "stdout",
     "output_type": "stream",
     "text": [
      "138/138 [==============================] - 4s 27ms/step\n",
      "[0.215143754646398, 0.9347826242446899]\n"
     ]
    }
   ],
   "source": [
    "print(model.evaluate(test_data,test_target))"
   ]
  },
  {
   "cell_type": "code",
   "execution_count": null,
   "metadata": {},
   "outputs": [],
   "source": []
  }
 ],
 "metadata": {
  "kernelspec": {
   "display_name": "Python 3",
   "language": "python",
   "name": "python3"
  },
  "language_info": {
   "codemirror_mode": {
    "name": "ipython",
    "version": 3
   },
   "file_extension": ".py",
   "mimetype": "text/x-python",
   "name": "python",
   "nbconvert_exporter": "python",
   "pygments_lexer": "ipython3",
   "version": "3.7.1"
  }
 },
 "nbformat": 4,
 "nbformat_minor": 2
}
